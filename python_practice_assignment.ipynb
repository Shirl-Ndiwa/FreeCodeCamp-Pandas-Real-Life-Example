{
  "cells": [
    {
      "cell_type": "markdown",
      "metadata": {
        "id": "view-in-github",
        "colab_type": "text"
      },
      "source": [
        "<a href=\"https://colab.research.google.com/github/Shirl-Ndiwa/FreeCodeCamp-Pandas-Real-Life-Example/blob/master/python_practice_assignment.ipynb\" target=\"_parent\"><img src=\"https://colab.research.google.com/assets/colab-badge.svg\" alt=\"Open In Colab\"/></a>"
      ]
    },
    {
      "cell_type": "markdown",
      "metadata": {
        "id": "roRYfzJ_p3QY"
      },
      "source": [
        "# Assignment 1 - Python Basics Practice\n",
        "\n",
        "*This assignment is a part of the course [\"Data Analysis with Python: Zero to Pandas\"](https://jovian.ml/learn/data-analysis-with-python-zero-to-pandas)*\n",
        "\n",
        "In this assignment, you'll get to practice some of the concepts and skills covered in the following notebooks:\n",
        "\n",
        "1. [First Steps with Python and Jupyter](https://jovian.ml/aakashns/first-steps-with-python)\n",
        "2. [A Quick Tour of Variables and Data Types](https://jovian.ml/aakashns/python-variables-and-data-types)\n",
        "3. [Branching using Conditional Statements and Loops](https://jovian.ml/aakashns/python-branching-and-loops)\n",
        "\n",
        "\n",
        "As you go through this notebook, you will find the symbol **???** in certain places. To complete this assignment, you must replace all the **???** with appropriate values, expressions or statements to ensure that the notebook runs properly end-to-end. \n",
        "\n",
        "**Guidelines**\n",
        "\n",
        "1. Make sure to run all the code cells, otherwise you may get errors like `NameError` for undefined variables.\n",
        "2. Do not change variable names, delete cells or disturb other existing code. It may cause problems during evaluation.\n",
        "3. In some cases, you may need to add some code cells or new statements before or after the line of code containing the **???**. \n",
        "4. Since you'll be using a free online service for code execution, save your work by running `jovian.commit` at regular intervals.\n",
        "5. Questions marked **(Optional)** will not be considered for evaluation, and can be skipped. They are for your learning.\n",
        "6. If you are stuck, you can ask for help on the course forum. Post errors, ask for hints and help others, but **please don't share the full solution answer code** to give others a chance to write the code themselves.\n",
        "7. After submission your code will be tested with some hidden test cases. Make sure to test your code exhaustively to cover all edge cases.\n",
        "\n",
        "\n",
        "Important Links:\n",
        "\n",
        "* Make submissions here: https://jovian.ml/learn/data-analysis-with-python-zero-to-pandas/assignment/assignment-1-python-basics-practice\n",
        "\n",
        "* Get help on the community forum: https://jovian.ml/forum/t/assignment-1-python-practice/7761 . You can get help with errors or ask for hints, but **please don't ask for or share the full working answer code** on the forum.\n"
      ]
    },
    {
      "cell_type": "markdown",
      "metadata": {
        "id": "yR-rfIEXp3Qe"
      },
      "source": [
        "### How to Run the Code and Save Your Work\n",
        "\n",
        "**Option 1: Running using free online resources (1-click, recommended)**: Click the **Run** button at the top of this page and select **Run on Binder**. You can also select \"Run on Colab\" or \"Run on Kaggle\", but you'll need to create an account on [Google Colab](https://colab.research.google.com) or [Kaggle](https://kaggle.com) to use these platforms.\n",
        "\n",
        "\n",
        "**Option 2: Running on your computer locally**: To run the code on your computer locally, you'll need to set up [Python](https://www.python.org) & [Conda](https://docs.conda.io/projects/conda/en/latest/user-guide/install/), download the notebook and install the required libraries. Click the **Run** button at the top of this page, select the **Run Locally** option, and follow the instructions.\n",
        "\n",
        "**Saving your work**: You can save a snapshot of the assignment to your [Jovian](https://jovian.ai) profile, so that you can access it later and continue your work. Keep saving your work by running `jovian.commit` from time to time."
      ]
    },
    {
      "cell_type": "code",
      "execution_count": null,
      "metadata": {
        "id": "8zSpDu5Up3Qf"
      },
      "outputs": [],
      "source": [
        "# Install the library\n",
        "!pip install jovian --upgrade --quiet"
      ]
    },
    {
      "cell_type": "code",
      "execution_count": null,
      "metadata": {
        "id": "ofh1MVprp3Qh"
      },
      "outputs": [],
      "source": [
        "# Import it\n",
        "import jovian"
      ]
    },
    {
      "cell_type": "code",
      "execution_count": null,
      "metadata": {
        "id": "m8jZd1WHp3Qh"
      },
      "outputs": [],
      "source": [
        "project_name='python-practice-assignment'"
      ]
    },
    {
      "cell_type": "code",
      "execution_count": null,
      "metadata": {
        "id": "bkZtmvcdp3Qi",
        "outputId": "18dd0931-1b26-4224-8290-23ab9a57dfaf"
      },
      "outputs": [
        {
          "data": {
            "application/javascript": [
              "window.require && require([\"base/js/namespace\"],function(Jupyter){Jupyter.notebook.save_checkpoint()})"
            ],
            "text/plain": [
              "<IPython.core.display.Javascript object>"
            ]
          },
          "metadata": {},
          "output_type": "display_data"
        },
        {
          "name": "stdout",
          "output_type": "stream",
          "text": [
            "[jovian] Attempting to save notebook..\u001b[0m\n",
            "[jovian] Updating notebook \"aakashns/python-practice-assignment\" on https://jovian.ai/\u001b[0m\n",
            "[jovian] Uploading notebook..\u001b[0m\n",
            "[jovian] Capturing environment..\u001b[0m\n",
            "[jovian] Committed successfully! https://jovian.ai/aakashns/python-practice-assignment\u001b[0m\n"
          ]
        },
        {
          "data": {
            "text/plain": [
              "'https://jovian.ai/aakashns/python-practice-assignment'"
            ]
          },
          "execution_count": 4,
          "metadata": {},
          "output_type": "execute_result"
        }
      ],
      "source": [
        "# Capture and upload a snapshot\n",
        "jovian.commit(project=project_name, privacy='secret', evironment=None)"
      ]
    },
    {
      "cell_type": "markdown",
      "metadata": {
        "id": "rd4PQ7zZp3Qj"
      },
      "source": [
        "You'll be asked to provide an API Key, to securely upload the notebook to your Jovian.ml account. You can get the API key from your Jovian.ml profile page after logging in / signing up. See the docs for details: https://jovian.ml/docs/user-guide/upload.html . The privacy of your assignment notebook is set to *Secret*, so that you can the evlauators can access it, but it will not shown on your public profile to other users."
      ]
    },
    {
      "cell_type": "markdown",
      "metadata": {
        "id": "9rTLKFr9p3Qk"
      },
      "source": [
        "## Problem 1 - Variables and Data Types\n",
        "\n",
        "**Q1: Assign your name to the variable `name`.**"
      ]
    },
    {
      "cell_type": "code",
      "execution_count": 1,
      "metadata": {
        "id": "ioUDCQCnp3Qk"
      },
      "outputs": [],
      "source": [
        "name = 'Sherlyne'"
      ]
    },
    {
      "cell_type": "markdown",
      "metadata": {
        "id": "gqSfCFa6p3Ql"
      },
      "source": [
        "**Q2: Assign your age (real or fake) to the variable `age`.**"
      ]
    },
    {
      "cell_type": "code",
      "execution_count": 2,
      "metadata": {
        "id": "ewwLaRi3p3Ql"
      },
      "outputs": [],
      "source": [
        "age = 25"
      ]
    },
    {
      "cell_type": "markdown",
      "metadata": {
        "id": "_N3okfhdp3Qm"
      },
      "source": [
        "**Q3: Assign a boolean value to the variable `has_android_phone`.**"
      ]
    },
    {
      "cell_type": "code",
      "execution_count": 13,
      "metadata": {
        "id": "61vQ9AHCp3Qm"
      },
      "outputs": [],
      "source": [
        "has_android_phone = False"
      ]
    },
    {
      "cell_type": "markdown",
      "metadata": {
        "id": "36a0Jvb0p3Qm"
      },
      "source": [
        "You can check the values of these variables by running the next cell."
      ]
    },
    {
      "cell_type": "code",
      "execution_count": 14,
      "metadata": {
        "colab": {
          "base_uri": "https://localhost:8080/"
        },
        "id": "M9qDYPHBp3Qn",
        "outputId": "b41f433c-bbf4-4deb-dd8c-3dc197cff7eb"
      },
      "outputs": [
        {
          "output_type": "execute_result",
          "data": {
            "text/plain": [
              "('Sherlyne', 25, False)"
            ]
          },
          "metadata": {},
          "execution_count": 14
        }
      ],
      "source": [
        "name, age, has_android_phone"
      ]
    },
    {
      "cell_type": "markdown",
      "metadata": {
        "id": "1oJpJGY6p3Qn"
      },
      "source": [
        "**Q4: Create a dictionary `person` with keys `\"Name\"`, `\"Age\"`, `\"HasAndroidPhone\"` and values using the variables defined above.**"
      ]
    },
    {
      "cell_type": "code",
      "execution_count": 15,
      "metadata": {
        "id": "HSQqjXApp3Qn"
      },
      "outputs": [],
      "source": [
        "person = {'Name': 'Sherlyne', 'Age': 25, 'HasAndroidPhone': 'False'}"
      ]
    },
    {
      "cell_type": "markdown",
      "metadata": {
        "id": "TtnLiCJHp3Qo"
      },
      "source": [
        "Let's use the `person` dictionary to print a nice message."
      ]
    },
    {
      "cell_type": "code",
      "execution_count": 16,
      "metadata": {
        "colab": {
          "base_uri": "https://localhost:8080/"
        },
        "id": "f_A_NC5-p3Qo",
        "outputId": "b28147be-6aa8-41f3-d8c4-576c328949e4"
      },
      "outputs": [
        {
          "output_type": "stream",
          "name": "stdout",
          "text": [
            "Sherlyne is aged 25, and owns an Android phone.\n"
          ]
        }
      ],
      "source": [
        "print(\"{} is aged {}, and owns an {}.\".format(\n",
        "    person[\"Name\"], \n",
        "    person[\"Age\"], \n",
        "    \"Android phone\" if person[\"HasAndroidPhone\"] else \"iPhone\"\n",
        "))"
      ]
    },
    {
      "cell_type": "markdown",
      "metadata": {
        "id": "Ooe2jFGdp3Qo"
      },
      "source": [
        "**Q4b (Optional): Use a `for` loop to display the `type` of each value stored against each key in `person`.**\n",
        "\n",
        "Here's the expected output for the key `\"Name\"`: \n",
        "\n",
        "```\n",
        "The key \"Name\" has the value \"Derek\" of the type \"<class 'str'>\"\n",
        "```"
      ]
    },
    {
      "cell_type": "code",
      "execution_count": 23,
      "metadata": {
        "colab": {
          "base_uri": "https://localhost:8080/"
        },
        "id": "4NIIZe-Vp3Qp",
        "outputId": "482d073c-d5be-4e53-ff49-9dee4d0f4cda"
      },
      "outputs": [
        {
          "output_type": "stream",
          "name": "stdout",
          "text": [
            "The Key: Name Has the value: Sherlyne\n",
            "The Key: Age Has the value: 25\n",
            "The Key: HasAndroidPhone Has the value: False\n"
          ]
        }
      ],
      "source": [
        "# this is optional\n",
        "for key in person:\n",
        "  print(\"The Key:\", key, \"Has the value:\", person[key])"
      ]
    },
    {
      "cell_type": "code",
      "source": [
        "for key in person:\n",
        "  print(\"The key\",key, \"has the value\", person[key], \"of the type\", type(person[key]))"
      ],
      "metadata": {
        "colab": {
          "base_uri": "https://localhost:8080/"
        },
        "id": "XmqulIXXsXUv",
        "outputId": "ebab77be-8525-4767-a29b-5a91ed145669"
      },
      "execution_count": 30,
      "outputs": [
        {
          "output_type": "stream",
          "name": "stdout",
          "text": [
            "The key Name has the value Sherlyne of the type <class 'str'>\n",
            "The key Age has the value 25 of the type <class 'int'>\n",
            "The key HasAndroidPhone has the value False of the type <class 'str'>\n"
          ]
        }
      ]
    },
    {
      "cell_type": "markdown",
      "metadata": {
        "id": "lAJfSJ4Kp3Qp"
      },
      "source": [
        "Now that you've solved one problem, it would be a good idea to record a snapshot of your notebook."
      ]
    },
    {
      "cell_type": "code",
      "execution_count": null,
      "metadata": {
        "id": "PfWDGQBip3Qp"
      },
      "outputs": [],
      "source": [
        "jovian.commit(project=project_name,environment=None)"
      ]
    },
    {
      "cell_type": "markdown",
      "metadata": {
        "id": "hwV5_WhBp3Qp"
      },
      "source": [
        "## Problem 2 - Working with Lists\n",
        "\n",
        "**Q5: Create a list containing the following 3 elements:**\n",
        "\n",
        "* your favorite color\n",
        "* the number of pets you have\n",
        "* a boolean value describing whether you have previous programming experience\n"
      ]
    },
    {
      "cell_type": "code",
      "execution_count": 57,
      "metadata": {
        "id": "XU6o091Hp3Qq"
      },
      "outputs": [],
      "source": [
        "my_list = ['red', 0, True ]"
      ]
    },
    {
      "cell_type": "markdown",
      "metadata": {
        "id": "5tUNinMip3Qq"
      },
      "source": [
        "Let's see what the list looks like:"
      ]
    },
    {
      "cell_type": "code",
      "execution_count": 58,
      "metadata": {
        "colab": {
          "base_uri": "https://localhost:8080/"
        },
        "id": "7HVkhdIAp3Qq",
        "outputId": "1ded12b6-e176-40b4-f881-d26dcd22d8b6"
      },
      "outputs": [
        {
          "output_type": "execute_result",
          "data": {
            "text/plain": [
              "['red', 0, True]"
            ]
          },
          "metadata": {},
          "execution_count": 58
        }
      ],
      "source": [
        "my_list"
      ]
    },
    {
      "cell_type": "markdown",
      "metadata": {
        "id": "3sQ9JJEhp3Qq"
      },
      "source": [
        "**Q6: Complete the following `print` and `if` statements by accessing the appropriate elements from `my_list`.**\n",
        "\n",
        "*Hint*: Use the list indexing notation `[]`."
      ]
    },
    {
      "cell_type": "code",
      "execution_count": 59,
      "metadata": {
        "colab": {
          "base_uri": "https://localhost:8080/"
        },
        "id": "y2CKejmzp3Qq",
        "outputId": "9a12f2ac-c1fa-48a1-bfec-dc7b0b219af8"
      },
      "outputs": [
        {
          "output_type": "stream",
          "name": "stdout",
          "text": [
            "My favorite color is red\n"
          ]
        }
      ],
      "source": [
        "print('My favorite color is', my_list[0])"
      ]
    },
    {
      "cell_type": "code",
      "execution_count": 60,
      "metadata": {
        "colab": {
          "base_uri": "https://localhost:8080/"
        },
        "id": "-BD7F2BKp3Qr",
        "outputId": "ca382e71-8d55-46f3-8e81-fedfb11ca99d"
      },
      "outputs": [
        {
          "output_type": "stream",
          "name": "stdout",
          "text": [
            "I have 0 pet(s).\n"
          ]
        }
      ],
      "source": [
        "print('I have {} pet(s).'.format(my_list[1]))"
      ]
    },
    {
      "cell_type": "code",
      "execution_count": 40,
      "metadata": {
        "colab": {
          "base_uri": "https://localhost:8080/",
          "height": 131
        },
        "id": "DFmUA_68p3Qr",
        "outputId": "f5079a47-9b94-482b-873f-d92cb37e3ab9"
      },
      "outputs": [
        {
          "output_type": "error",
          "ename": "SyntaxError",
          "evalue": "ignored",
          "traceback": [
            "\u001b[0;36m  File \u001b[0;32m\"<ipython-input-40-23d04681a9d9>\"\u001b[0;36m, line \u001b[0;32m1\u001b[0m\n\u001b[0;31m    if my_list = [1]:\u001b[0m\n\u001b[0m               ^\u001b[0m\n\u001b[0;31mSyntaxError\u001b[0m\u001b[0;31m:\u001b[0m invalid syntax\n"
          ]
        }
      ],
      "source": [
        "if (my_list):\n",
        "    print(\"I have previous programming experience\")\n",
        "else:\n",
        "    print(\"I do not have previous programming experience\")"
      ]
    },
    {
      "cell_type": "markdown",
      "metadata": {
        "id": "IkpRX-wYp3Qr"
      },
      "source": [
        "**Q7: Add your favorite single digit number to the end of the list using the appropriate list method.**"
      ]
    },
    {
      "cell_type": "code",
      "execution_count": 61,
      "metadata": {
        "id": "sKYpkoe1p3Qr"
      },
      "outputs": [],
      "source": [
        "my_list.append(11)"
      ]
    },
    {
      "cell_type": "markdown",
      "metadata": {
        "id": "4j9HlRz1p3Qr"
      },
      "source": [
        "Let's see if the number shows up in the list."
      ]
    },
    {
      "cell_type": "code",
      "execution_count": 62,
      "metadata": {
        "colab": {
          "base_uri": "https://localhost:8080/"
        },
        "id": "b4PiPT9zp3Qs",
        "outputId": "de6c7dbc-cc3b-445b-a783-cf50bb7e9ad3"
      },
      "outputs": [
        {
          "output_type": "execute_result",
          "data": {
            "text/plain": [
              "['red', 0, True, 11]"
            ]
          },
          "metadata": {},
          "execution_count": 62
        }
      ],
      "source": [
        "my_list"
      ]
    },
    {
      "cell_type": "markdown",
      "metadata": {
        "id": "lKpqUrN1p3Qs"
      },
      "source": [
        "**Q8: Remove the first element of the list, using the appropriate list method.**\n",
        "\n",
        "*Hint*: Check out methods of list here: https://www.w3schools.com/python/python_ref_list.asp"
      ]
    },
    {
      "cell_type": "code",
      "execution_count": 63,
      "metadata": {
        "colab": {
          "base_uri": "https://localhost:8080/",
          "height": 35
        },
        "id": "7RhBw75Qp3Qs",
        "outputId": "b232a671-ef07-4de0-9b97-a2f19e1be283"
      },
      "outputs": [
        {
          "output_type": "execute_result",
          "data": {
            "text/plain": [
              "'red'"
            ],
            "application/vnd.google.colaboratory.intrinsic+json": {
              "type": "string"
            }
          },
          "metadata": {},
          "execution_count": 63
        }
      ],
      "source": [
        "my_list.pop(0)"
      ]
    },
    {
      "cell_type": "code",
      "execution_count": 64,
      "metadata": {
        "colab": {
          "base_uri": "https://localhost:8080/"
        },
        "id": "_OzSOlupp3Qs",
        "outputId": "09c261dd-c2f7-4a57-c81a-7bbdcbc3bc22"
      },
      "outputs": [
        {
          "output_type": "execute_result",
          "data": {
            "text/plain": [
              "[0, True, 11]"
            ]
          },
          "metadata": {},
          "execution_count": 64
        }
      ],
      "source": [
        "my_list"
      ]
    },
    {
      "cell_type": "markdown",
      "metadata": {
        "id": "UlKwdQV-p3Qs"
      },
      "source": [
        "**Q9: Complete the `print` statement below to display the number of elements in `my_list`.**"
      ]
    },
    {
      "cell_type": "code",
      "execution_count": 65,
      "metadata": {
        "colab": {
          "base_uri": "https://localhost:8080/"
        },
        "id": "KRkxYI0up3Qs",
        "outputId": "2aa3d4e8-5047-47f1-b9d2-a33ba15c27e5"
      },
      "outputs": [
        {
          "output_type": "stream",
          "name": "stdout",
          "text": [
            "The list has 3 elements.\n"
          ]
        }
      ],
      "source": [
        "print(\"The list has {} elements.\".format(len(my_list)))"
      ]
    },
    {
      "cell_type": "markdown",
      "metadata": {
        "id": "4dEXH3kOp3Qt"
      },
      "source": [
        "Well done, you're making good progress! Save your work before continuing"
      ]
    },
    {
      "cell_type": "code",
      "execution_count": null,
      "metadata": {
        "id": "IkaoDxFPp3Qt"
      },
      "outputs": [],
      "source": [
        "jovian.commit(project=project_name,environment=None)"
      ]
    },
    {
      "cell_type": "markdown",
      "metadata": {
        "id": "lNFplijnp3Qt"
      },
      "source": [
        "## Problem 3 - Conditions and loops\n",
        "\n",
        "**Q10: Calculate and display the sum of all the numbers divisible by 7 between 18 and 534 i.e. `21+28+35+...+525+532`**.\n",
        "\n",
        "*Hint*: One way to do this is to loop over a `range` using `for` and use an `if` statement inside it."
      ]
    },
    {
      "cell_type": "code",
      "execution_count": 70,
      "metadata": {
        "colab": {
          "base_uri": "https://localhost:8080/"
        },
        "id": "6KhTInNPp3Qt",
        "outputId": "c31c50e7-c58e-4c8b-aca4-beac98ca106d"
      },
      "outputs": [
        {
          "output_type": "stream",
          "name": "stdout",
          "text": [
            "20461\n"
          ]
        }
      ],
      "source": [
        "# store the final answer in this variable\n",
        "sum_of_numbers = 0\n",
        "\n",
        "# perform the calculation here\n",
        "for number in range(18, 535):\n",
        "  if number % 7 == 0:\n",
        "    sum_of_numbers += number\n",
        "print(sum_of_numbers)"
      ]
    },
    {
      "cell_type": "markdown",
      "metadata": {
        "id": "i6f3i5wHp3Qu"
      },
      "source": [
        "If you are not able to figure out the solution to this problem, you can ask for hints on the community forum: https://jovian.ml/forum/t/assignment-1-python-practice/7761 . Remember to save your work before moving forward."
      ]
    },
    {
      "cell_type": "code",
      "execution_count": null,
      "metadata": {
        "id": "PTrkUS-Tp3Qu"
      },
      "outputs": [],
      "source": [
        "jovian.commit(project=project_name,environment=None)"
      ]
    },
    {
      "cell_type": "markdown",
      "metadata": {
        "id": "N2lwsm_sp3Qu"
      },
      "source": [
        "## Problem 4 - Flying to the Bahamas\n",
        "\n",
        "**Q11: A travel company wants to fly a plane to the Bahamas. Flying the plane costs 5000 dollars. So far, 29 people have signed up for the trip. If the company charges 200 dollars per ticket, what is the profit made by the company?**\n",
        "\n",
        "Fill in values or arithmetic expressions for the variables below."
      ]
    },
    {
      "cell_type": "code",
      "execution_count": 72,
      "metadata": {
        "id": "vL4LN3EAp3Qu"
      },
      "outputs": [],
      "source": [
        "cost_of_flying_plane = 5000"
      ]
    },
    {
      "cell_type": "code",
      "execution_count": 73,
      "metadata": {
        "id": "q9tuHcpbp3Qu"
      },
      "outputs": [],
      "source": [
        "number_of_passengers = 29"
      ]
    },
    {
      "cell_type": "code",
      "execution_count": 74,
      "metadata": {
        "id": "OAHD9XpSp3Qu"
      },
      "outputs": [],
      "source": [
        "price_of_ticket = 200"
      ]
    },
    {
      "cell_type": "code",
      "execution_count": 75,
      "metadata": {
        "id": "h3SOxiyap3Qv"
      },
      "outputs": [],
      "source": [
        "profit = cost_of_flying_plane - number_of_passengers*price_of_ticket"
      ]
    },
    {
      "cell_type": "code",
      "execution_count": 76,
      "metadata": {
        "colab": {
          "base_uri": "https://localhost:8080/"
        },
        "id": "QPWVplogp3Qv",
        "outputId": "ed6135f9-7b9e-43e7-d8de-1cb114396397"
      },
      "outputs": [
        {
          "output_type": "stream",
          "name": "stdout",
          "text": [
            "The company makes of a profit of -800 dollars\n"
          ]
        }
      ],
      "source": [
        "print('The company makes of a profit of {} dollars'.format(profit))"
      ]
    },
    {
      "cell_type": "markdown",
      "metadata": {
        "id": "m-ZSCfdep3Qv"
      },
      "source": [
        "**Q11b (Optional): Out of the 29 people who took the flight, only 12 buy tickets to return from the Bahamas on the same plane. If the flying the plane back also costs 5000 dollars, and does the company make an overall profit or loss? The company charges the same fee of 200 dollars per ticket for the return flight.**\n",
        "\n",
        "Use an `if` statement to display the result."
      ]
    },
    {
      "cell_type": "code",
      "execution_count": 80,
      "metadata": {
        "id": "D4qenwTlp3Qv"
      },
      "outputs": [],
      "source": [
        "# this is optional\n",
        "number_of_return_passengers = 12\n",
        "profit = cost_of_flying_plane - number_of_return_passengers*price_of_ticket"
      ]
    },
    {
      "cell_type": "code",
      "execution_count": 81,
      "metadata": {
        "colab": {
          "base_uri": "https://localhost:8080/"
        },
        "id": "gN9znZbNp3Qv",
        "outputId": "4b16c043-2578-4254-d86c-1f6f8e75f7a3"
      },
      "outputs": [
        {
          "output_type": "stream",
          "name": "stdout",
          "text": [
            "The company makes an overall loss of 2600 dollars\n"
          ]
        }
      ],
      "source": [
        "# this is optional\n",
        "if profit >= cost_of_flying_plane:\n",
        "    print(\"The company makes an overall profit of {} dollars\".format(profit))\n",
        "else:\n",
        "    print(\"The company makes an overall loss of {} dollars\".format(profit))"
      ]
    },
    {
      "cell_type": "markdown",
      "metadata": {
        "id": "SKJMBhIwp3Qv"
      },
      "source": [
        "Great work so far! Want to take a break? Remember to save and upload your notebook to record your progress."
      ]
    },
    {
      "cell_type": "code",
      "execution_count": null,
      "metadata": {
        "id": "WIweF1Srp3Qw"
      },
      "outputs": [],
      "source": [
        "jovian.commit(project=project_name,environment=None)"
      ]
    },
    {
      "cell_type": "markdown",
      "metadata": {
        "id": "mxlWUr_pp3Qw"
      },
      "source": [
        "## Problem 5 - Twitter Sentiment Analysis\n",
        "\n",
        "Are your ready to perform some *Data Analysis with Python*? In this problem, we'll analyze some fictional tweets and find out whether the overall sentiment of Twitter users is happy or sad. This is a simplified version of an important real world problem called *sentiment analysis*.\n",
        "\n",
        "Before we begin, we need a list of tweets to analyze. We're picking a small number of tweets here, but the exact same analysis can also be done for thousands, or even millions of tweets. The collection of data that we perform analysis on is often called a *dataset*."
      ]
    },
    {
      "cell_type": "code",
      "execution_count": 83,
      "metadata": {
        "id": "ddBEduGGp3Qw"
      },
      "outputs": [],
      "source": [
        "tweets = [\n",
        "    \"Wow, what a great day today!! #sunshine\",\n",
        "    \"I feel sad about the things going on around us. #covid19\",\n",
        "    \"I'm really excited to learn Python with @JovianML #zerotopandas\",\n",
        "    \"This is a really nice song. #linkinpark\",\n",
        "    \"The python programming language is useful for data science\",\n",
        "    \"Why do bad things happen to me?\",\n",
        "    \"Apple announces the release of the new iPhone 12. Fans are excited.\",\n",
        "    \"Spent my day with family!! #happy\",\n",
        "    \"Check out my blog post on common string operations in Python. #zerotopandas\",\n",
        "    \"Freecodecamp has great coding tutorials. #skillup\"\n",
        "]"
      ]
    },
    {
      "cell_type": "markdown",
      "metadata": {
        "id": "tZWNmj3Sp3Qw"
      },
      "source": [
        "Let's begin by answering a very simple but important question about our dataset.\n",
        "\n",
        "**Q12: How many tweets does the dataset contain?**"
      ]
    },
    {
      "cell_type": "code",
      "execution_count": 84,
      "metadata": {
        "id": "vRvZQ_oQp3Qw"
      },
      "outputs": [],
      "source": [
        "number_of_tweets = len(tweets)"
      ]
    },
    {
      "cell_type": "markdown",
      "metadata": {
        "id": "E8H31ar8p3Qx"
      },
      "source": [
        "Let's create two lists of words: `happy_words` and `sad_words`. We will use these to check if a tweet is happy or sad."
      ]
    },
    {
      "cell_type": "code",
      "execution_count": 85,
      "metadata": {
        "id": "FdzguHYjp3Qx"
      },
      "outputs": [],
      "source": [
        "happy_words = ['great', 'excited', 'happy', 'nice', 'wonderful', 'amazing', 'good', 'best']"
      ]
    },
    {
      "cell_type": "code",
      "execution_count": 86,
      "metadata": {
        "id": "QQ_gDaURp3Qx"
      },
      "outputs": [],
      "source": [
        "sad_words = ['sad', 'bad', 'tragic', 'unhappy', 'worst']"
      ]
    },
    {
      "cell_type": "markdown",
      "metadata": {
        "id": "eaOjK5Dwp3Qx"
      },
      "source": [
        "To identify whether a tweet is happy, we can simply check if contains any of the words from `happy_words`. Here's an example:"
      ]
    },
    {
      "cell_type": "code",
      "execution_count": 87,
      "metadata": {
        "id": "KkS5bXWDp3Qx"
      },
      "outputs": [],
      "source": [
        "sample_tweet = tweets[0]"
      ]
    },
    {
      "cell_type": "code",
      "execution_count": 88,
      "metadata": {
        "colab": {
          "base_uri": "https://localhost:8080/",
          "height": 35
        },
        "id": "3SMk1bdgp3Qy",
        "outputId": "722b5c8b-c181-40b6-936f-b3c858bd052f"
      },
      "outputs": [
        {
          "output_type": "execute_result",
          "data": {
            "text/plain": [
              "'Wow, what a great day today!! #sunshine'"
            ],
            "application/vnd.google.colaboratory.intrinsic+json": {
              "type": "string"
            }
          },
          "metadata": {},
          "execution_count": 88
        }
      ],
      "source": [
        "sample_tweet"
      ]
    },
    {
      "cell_type": "code",
      "execution_count": 89,
      "metadata": {
        "id": "sUXfEFMep3Qy"
      },
      "outputs": [],
      "source": [
        "is_tweet_happy = False\n",
        "\n",
        "# Get a word from happy_words\n",
        "for word in happy_words:\n",
        "    # Check if the tweet contains the word\n",
        "    if word in sample_tweet:\n",
        "        # Word found! Mark the tweet as happy\n",
        "        is_tweet_happy = True"
      ]
    },
    {
      "cell_type": "markdown",
      "metadata": {
        "id": "WwQMlNUsp3Qy"
      },
      "source": [
        "Do you understand what we're doing above? \n",
        "\n",
        "> For each word in the list of happy words, we check if is a part of the selected tweet. If the word is indded a part of the tweet, we set the variable `is_tweet_happy` to `True`. "
      ]
    },
    {
      "cell_type": "code",
      "execution_count": 90,
      "metadata": {
        "colab": {
          "base_uri": "https://localhost:8080/"
        },
        "id": "bAIU760_p3Qz",
        "outputId": "c303fdc2-ebe9-41c0-bcb1-b2a390c25780"
      },
      "outputs": [
        {
          "output_type": "execute_result",
          "data": {
            "text/plain": [
              "True"
            ]
          },
          "metadata": {},
          "execution_count": 90
        }
      ],
      "source": [
        "is_tweet_happy"
      ]
    },
    {
      "cell_type": "markdown",
      "metadata": {
        "id": "b_9JdneNp3Qz"
      },
      "source": [
        "**Q13: Determine the number of tweets in the dataset that can be classified as happy.**\n",
        "\n",
        "*Hint*: You'll need to use a loop inside another loop to do this. Use the code from the example shown above."
      ]
    },
    {
      "cell_type": "code",
      "execution_count": 108,
      "metadata": {
        "id": "6s48KtoHp3Q0"
      },
      "outputs": [],
      "source": [
        "# store the final answer in this variable\n",
        "number_of_happy_tweets = 0\n",
        "\n",
        "# perform the calculations here\n",
        "for tweet in tweets:\n",
        "  for word in happy_words:\n",
        "    if word in tweet:\n",
        "      number_of_happy_tweets +=1\n",
        "      break\n"
      ]
    },
    {
      "cell_type": "code",
      "execution_count": 109,
      "metadata": {
        "colab": {
          "base_uri": "https://localhost:8080/"
        },
        "id": "Lrt9-pW0p3Q0",
        "outputId": "f4a19bf0-1976-4d07-a043-aad38f404ca0"
      },
      "outputs": [
        {
          "output_type": "stream",
          "name": "stdout",
          "text": [
            "Number of happy tweets: 6\n"
          ]
        }
      ],
      "source": [
        "print(\"Number of happy tweets:\", number_of_happy_tweets)"
      ]
    },
    {
      "cell_type": "code",
      "source": [
        "# number of sad tweets\n",
        "\n",
        "number_of_sad_tweets = 0\n",
        "\n",
        "for tweet in tweets:\n",
        "  for word in sad_words:\n",
        "    if word in tweet:\n",
        "      number_of_sad_tweets += 1\n",
        "      break\n",
        "\n",
        "print(\"Number of sad tweets:\", number_of_sad_tweets)"
      ],
      "metadata": {
        "colab": {
          "base_uri": "https://localhost:8080/"
        },
        "id": "14uSO0yo-OMQ",
        "outputId": "8e25ad93-701e-4499-c4ca-4cc0423a5a71"
      },
      "execution_count": 110,
      "outputs": [
        {
          "output_type": "stream",
          "name": "stdout",
          "text": [
            "Number of sad tweets: 2\n"
          ]
        }
      ]
    },
    {
      "cell_type": "markdown",
      "metadata": {
        "id": "weHvPJYSp3Q0"
      },
      "source": [
        "If you are not able to figure out the solution to this problem, you can ask for hints on the community forum: https://jovian.ml/forum/t/assignment-1-python-practice/7761 . Also try adding `print` statements inside your loops to inspect variables and make sure your logic is correct."
      ]
    },
    {
      "cell_type": "markdown",
      "metadata": {
        "id": "uTbVjz7up3Q0"
      },
      "source": [
        "**Q14: What fraction of the total number of tweets are happy?**\n",
        "\n",
        "For example, if 2 out of 10 tweets are happy, then the answer is `2/10` i.e. `0.2`."
      ]
    },
    {
      "cell_type": "code",
      "execution_count": 113,
      "metadata": {
        "id": "0VEr-E6pp3Q0"
      },
      "outputs": [],
      "source": [
        "happy_fraction = number_of_happy_tweets / len(tweets)"
      ]
    },
    {
      "cell_type": "code",
      "execution_count": 114,
      "metadata": {
        "colab": {
          "base_uri": "https://localhost:8080/"
        },
        "id": "MklzJc_rp3Q1",
        "outputId": "1461e27b-5077-46a8-8d4c-e3da396f4920"
      },
      "outputs": [
        {
          "output_type": "stream",
          "name": "stdout",
          "text": [
            "The fraction of happy tweets is: 0.6\n"
          ]
        }
      ],
      "source": [
        "print(\"The fraction of happy tweets is:\", happy_fraction)"
      ]
    },
    {
      "cell_type": "markdown",
      "metadata": {
        "id": "kafLIfNap3Q1"
      },
      "source": [
        "To identify whether a tweet is sad, we can simply check if contains any of the words from `sad_words`.\n",
        "\n",
        "**Q15: Determine the number of tweets in the dataset that can be classified as sad.**"
      ]
    },
    {
      "cell_type": "code",
      "execution_count": 116,
      "metadata": {
        "id": "kf5TDJv2p3Q1"
      },
      "outputs": [],
      "source": [
        "# store the final answer in this variable\n",
        "number_of_sad_tweets = 0\n",
        "\n",
        "# perform the calculations here\n",
        "for tweet in tweets:\n",
        "  for word in sad_words:\n",
        "    if word in tweet:\n",
        "      number_of_sad_tweets += 1\n",
        "      break"
      ]
    },
    {
      "cell_type": "code",
      "execution_count": 117,
      "metadata": {
        "colab": {
          "base_uri": "https://localhost:8080/"
        },
        "id": "hEVU6mfyp3Q1",
        "outputId": "968fecac-46a9-4a34-9e8f-0f92093f63cb"
      },
      "outputs": [
        {
          "output_type": "stream",
          "name": "stdout",
          "text": [
            "Number of sad tweets: 2\n"
          ]
        }
      ],
      "source": [
        "print(\"Number of sad tweets:\", number_of_sad_tweets)"
      ]
    },
    {
      "cell_type": "markdown",
      "metadata": {
        "id": "SjQaKZmip3Q1"
      },
      "source": [
        "**Q16: What fraction of the total number of tweets are sad?**"
      ]
    },
    {
      "cell_type": "code",
      "execution_count": 118,
      "metadata": {
        "id": "g6z1rBRKp3Q1"
      },
      "outputs": [],
      "source": [
        "sad_fraction = number_of_sad_tweets / len(tweets)"
      ]
    },
    {
      "cell_type": "code",
      "execution_count": 119,
      "metadata": {
        "colab": {
          "base_uri": "https://localhost:8080/"
        },
        "id": "ls9ihQcOp3Q2",
        "outputId": "c413efee-fc19-47d7-d905-9f77b36b2d08"
      },
      "outputs": [
        {
          "output_type": "stream",
          "name": "stdout",
          "text": [
            "The fraction of sad tweets is: 0.2\n"
          ]
        }
      ],
      "source": [
        "print(\"The fraction of sad tweets is:\", sad_fraction)"
      ]
    },
    {
      "cell_type": "markdown",
      "metadata": {
        "id": "t3ZP__txp3Q2"
      },
      "source": [
        "The rest of this problem is optional. Let's save your work before continuing."
      ]
    },
    {
      "cell_type": "code",
      "execution_count": null,
      "metadata": {
        "id": "hjRuDrm0p3Q2"
      },
      "outputs": [],
      "source": [
        "jovian.commit(project=project_name,environment=None)"
      ]
    },
    {
      "cell_type": "markdown",
      "metadata": {
        "id": "h1n1djQBp3Q2"
      },
      "source": [
        "Great work, even with some basic analysis, we already know a lot about the sentiment of the tweets given to us. Let us now define a metric called \"sentiment score\", to summarize the overall sentiment of the tweets.\n",
        "\n",
        "**Q16b (Optional): Calculate the sentiment score, which is defined as the difference betweek the fraction of happy tweets and the fraction of sad tweets.**"
      ]
    },
    {
      "cell_type": "code",
      "execution_count": 120,
      "metadata": {
        "id": "-IW0ROYxp3Q2"
      },
      "outputs": [],
      "source": [
        "sentiment_score = happy_fraction - sad_fraction"
      ]
    },
    {
      "cell_type": "code",
      "execution_count": 121,
      "metadata": {
        "colab": {
          "base_uri": "https://localhost:8080/"
        },
        "id": "w8ziDVrtp3Q2",
        "outputId": "57d660b8-d8bc-4fb3-da0e-ad12a072a5b1"
      },
      "outputs": [
        {
          "output_type": "stream",
          "name": "stdout",
          "text": [
            "The sentiment score for the given tweets is 0.39999999999999997\n"
          ]
        }
      ],
      "source": [
        "print(\"The sentiment score for the given tweets is\", sentiment_score)"
      ]
    },
    {
      "cell_type": "markdown",
      "metadata": {
        "id": "UtMnkVYZp3Q2"
      },
      "source": [
        "In a real world scenario, we could calculate & record the sentiment score for all the tweets sent out every day. This information can be used to plot a graph and study the trends in the changing sentiment of the world. The following graph was creating using the Python data visualization library `matplotlib`, which we'll cover later in the course.\n",
        "\n",
        "<img src=\"https://i.imgur.com/6CCIwCb.png\" style=\"width:400px\">\n",
        "\n",
        "What does the sentiment score represent? Based on the value of the sentiment score, can you identify if the overall sentiment of the dataset is happy or sad?\n",
        "\n",
        "**Q16c (Optional): Display whether the overall sentiment of the given dataset of tweets is happy or sad, using the sentiment score.**"
      ]
    },
    {
      "cell_type": "code",
      "execution_count": 123,
      "metadata": {
        "colab": {
          "base_uri": "https://localhost:8080/"
        },
        "id": "ZJkz-w3op3Q3",
        "outputId": "60419653-0807-48a1-b9ad-1a90204eca28"
      },
      "outputs": [
        {
          "output_type": "stream",
          "name": "stdout",
          "text": [
            "The overall sentiment is happy\n"
          ]
        }
      ],
      "source": [
        "if sentiment_score >= 0:\n",
        "    print(\"The overall sentiment is happy\")\n",
        "else:\n",
        "    print(\"The overall sentiment is sad\")"
      ]
    },
    {
      "cell_type": "markdown",
      "metadata": {
        "id": "25SWpwpDp3Q3"
      },
      "source": [
        "Finally, it's also important to track how many tweets are neutral i.e. neither happy nor sad. If a large fraction of tweets are marked neutral, maybe we need to improve our lists of happy and sad words. \n",
        "\n",
        "**Q16d (Optional): What is the fraction of tweets that are neutral i.e. neither happy nor sad.**"
      ]
    },
    {
      "cell_type": "code",
      "execution_count": null,
      "metadata": {
        "id": "Z1cMzWxNp3Q3"
      },
      "outputs": [],
      "source": [
        "# store the final answer in this variable\n",
        "number_of_neutral_tweets = 0\n",
        "\n",
        "# perform the calculation here\n",
        "for tweet in tweets:\n",
        "  "
      ]
    },
    {
      "cell_type": "code",
      "execution_count": 127,
      "metadata": {
        "id": "fzmZonRGp3Q3"
      },
      "outputs": [],
      "source": [
        "neutral_fraction = 1 - (happy_fraction + sad_fraction)"
      ]
    },
    {
      "cell_type": "code",
      "execution_count": 128,
      "metadata": {
        "colab": {
          "base_uri": "https://localhost:8080/"
        },
        "id": "q7l4Z1-rp3Q3",
        "outputId": "42f1b3e7-adf6-48ae-8ac4-eb362154e754"
      },
      "outputs": [
        {
          "output_type": "stream",
          "name": "stdout",
          "text": [
            "The fraction of neutral tweets is 0.19999999999999996\n"
          ]
        }
      ],
      "source": [
        "print('The fraction of neutral tweets is', neutral_fraction)"
      ]
    },
    {
      "cell_type": "markdown",
      "metadata": {
        "id": "6EghpEOIp3Q3"
      },
      "source": [
        "Ponder upon these questions and try some experiments to hone your skills further:\n",
        "\n",
        "* What are the limitations of our approach? When will it go wrong or give incorrect results?\n",
        "* How can we improve our approach to address the limitations?\n",
        "* What are some other questions you would like to ask, given a list of tweets?\n",
        "* Try collecting some real tweets from your Twitter timeline and repeat this analysis. Do the results make sense?\n",
        "\n",
        "**IMPORTANT NOTE**: If you want to try out these experiments, please create a new notebook using the \"New Notebook\" button on your Jovian.ml profile, to avoid making unintended changes to your assignment submission notebook."
      ]
    },
    {
      "cell_type": "markdown",
      "metadata": {
        "id": "kcxjuTwSp3Q4"
      },
      "source": [
        "## Submission \n",
        "\n",
        "Congratulations on making it this far! You've reached the end of this assignment, and you just completed your first data analysis problem. It's time to record one final version of your notebook for submission.\n",
        "\n",
        "Make a submission here by filling the submission form: https://jovian.ml/learn/data-analysis-with-python-zero-to-pandas/assignment/assignment-1-python-basics-practice"
      ]
    },
    {
      "cell_type": "code",
      "execution_count": null,
      "metadata": {
        "scrolled": false,
        "id": "8ah7uLKfp3Q4"
      },
      "outputs": [],
      "source": [
        "jovian.commit(project=project_name,environment=None)"
      ]
    }
  ],
  "metadata": {
    "kernelspec": {
      "display_name": "Python 3",
      "language": "python",
      "name": "python3"
    },
    "language_info": {
      "codemirror_mode": {
        "name": "ipython",
        "version": 3
      },
      "file_extension": ".py",
      "mimetype": "text/x-python",
      "name": "python",
      "nbconvert_exporter": "python",
      "pygments_lexer": "ipython3",
      "version": "3.6.13"
    },
    "colab": {
      "provenance": [],
      "include_colab_link": true
    }
  },
  "nbformat": 4,
  "nbformat_minor": 0
}